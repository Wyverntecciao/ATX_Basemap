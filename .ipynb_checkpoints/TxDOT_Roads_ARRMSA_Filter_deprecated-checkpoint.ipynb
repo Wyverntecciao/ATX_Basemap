{
 "cells": [
  {
   "cell_type": "code",
   "execution_count": 1,
   "id": "0d370d7e",
   "metadata": {},
   "outputs": [
    {
     "ename": "SyntaxError",
     "evalue": "invalid syntax (1891214439.py, line 4)",
     "output_type": "error",
     "traceback": [
      "\u001b[0;36m  File \u001b[0;32m\"/var/folders/d2/xpkyxcbd04q07qs7sln9rg980000gp/T/ipykernel_78096/1891214439.py\"\u001b[0;36m, line \u001b[0;32m4\u001b[0m\n\u001b[0;31m    arrcos = geopandas.read_file(/Users/BUNGUS/Desktop/GIS_DATA/ARR_MSA.csv)\u001b[0m\n\u001b[0m                                 ^\u001b[0m\n\u001b[0;31mSyntaxError\u001b[0m\u001b[0;31m:\u001b[0m invalid syntax\n"
     ]
    }
   ],
   "source": [
    "import pandas as pd\n",
    "#import geopandas as gpd\n",
    "\n",
    "arrcos = geopandas.read_file(\"/Users/BUNGUS/Desktop/GIS_DATA/ARR_MSA.csv\")\n",
    "\n",
    "arrcos.top\n",
    "print(\"hello world\")"
   ]
  },
  {
   "cell_type": "code",
   "execution_count": null,
   "id": "d3a2ecd9",
   "metadata": {},
   "outputs": [],
   "source": []
  }
 ],
 "metadata": {
  "kernelspec": {
   "display_name": "Python 3 (ipykernel)",
   "language": "python",
   "name": "python3"
  },
  "language_info": {
   "codemirror_mode": {
    "name": "ipython",
    "version": 3
   },
   "file_extension": ".py",
   "mimetype": "text/x-python",
   "name": "python",
   "nbconvert_exporter": "python",
   "pygments_lexer": "ipython3",
   "version": "3.9.7"
  }
 },
 "nbformat": 4,
 "nbformat_minor": 5
}
