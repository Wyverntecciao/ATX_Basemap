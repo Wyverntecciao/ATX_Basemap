{
 "cells": [
  {
   "cell_type": "code",
   "execution_count": 27,
   "id": "df1a24f2",
   "metadata": {},
   "outputs": [
    {
     "data": {
      "text/html": [
       "<div>\n",
       "<style scoped>\n",
       "    .dataframe tbody tr th:only-of-type {\n",
       "        vertical-align: middle;\n",
       "    }\n",
       "\n",
       "    .dataframe tbody tr th {\n",
       "        vertical-align: top;\n",
       "    }\n",
       "\n",
       "    .dataframe thead th {\n",
       "        text-align: right;\n",
       "    }\n",
       "</style>\n",
       "<table border=\"1\" class=\"dataframe\">\n",
       "  <thead>\n",
       "    <tr style=\"text-align: right;\">\n",
       "      <th></th>\n",
       "      <th>County Name</th>\n",
       "      <th>FIPS #</th>\n",
       "      <th>County #</th>\n",
       "      <th>Public Health Region</th>\n",
       "      <th>Health Service Region (8)</th>\n",
       "      <th>Metropolitan Statistical Area (MSA)</th>\n",
       "      <th>Metropolitan Divisions (MD)</th>\n",
       "      <th>Metro Area</th>\n",
       "      <th>NCHS Urban Rural Classification (2006)</th>\n",
       "      <th>NCHS Urban Rural Classification (2013)</th>\n",
       "      <th>Border (La Paz Agreement)</th>\n",
       "      <th>Border 15</th>\n",
       "      <th>geometry</th>\n",
       "    </tr>\n",
       "  </thead>\n",
       "  <tbody>\n",
       "    <tr>\n",
       "      <th>0</th>\n",
       "      <td>Bastrop</td>\n",
       "      <td>21.0</td>\n",
       "      <td>11.0</td>\n",
       "      <td>7.0</td>\n",
       "      <td>7</td>\n",
       "      <td>Austin-Round Rock</td>\n",
       "      <td>--</td>\n",
       "      <td>Metro</td>\n",
       "      <td>Large Fringe Metro</td>\n",
       "      <td>Large Fringe Metro</td>\n",
       "      <td>Non-Border</td>\n",
       "      <td>Non-Border</td>\n",
       "      <td>None</td>\n",
       "    </tr>\n",
       "    <tr>\n",
       "      <th>1</th>\n",
       "      <td>Caldwell</td>\n",
       "      <td>55.0</td>\n",
       "      <td>28.0</td>\n",
       "      <td>7.0</td>\n",
       "      <td>7</td>\n",
       "      <td>Austin-Round Rock</td>\n",
       "      <td>--</td>\n",
       "      <td>Metro</td>\n",
       "      <td>Large Fringe Metro</td>\n",
       "      <td>Large Fringe Metro</td>\n",
       "      <td>Non-Border</td>\n",
       "      <td>Non-Border</td>\n",
       "      <td>None</td>\n",
       "    </tr>\n",
       "    <tr>\n",
       "      <th>2</th>\n",
       "      <td>Hays</td>\n",
       "      <td>209.0</td>\n",
       "      <td>105.0</td>\n",
       "      <td>7.0</td>\n",
       "      <td>7</td>\n",
       "      <td>Austin-Round Rock</td>\n",
       "      <td>--</td>\n",
       "      <td>Metro</td>\n",
       "      <td>Large Fringe Metro</td>\n",
       "      <td>Large Fringe Metro</td>\n",
       "      <td>Non-Border</td>\n",
       "      <td>Non-Border</td>\n",
       "      <td>None</td>\n",
       "    </tr>\n",
       "    <tr>\n",
       "      <th>3</th>\n",
       "      <td>Travis</td>\n",
       "      <td>453.0</td>\n",
       "      <td>227.0</td>\n",
       "      <td>7.0</td>\n",
       "      <td>7</td>\n",
       "      <td>Austin-Round Rock</td>\n",
       "      <td>--</td>\n",
       "      <td>Metro</td>\n",
       "      <td>Large Central Metro</td>\n",
       "      <td>Large Central Metro</td>\n",
       "      <td>Non-Border</td>\n",
       "      <td>Non-Border</td>\n",
       "      <td>None</td>\n",
       "    </tr>\n",
       "    <tr>\n",
       "      <th>4</th>\n",
       "      <td>Williamson</td>\n",
       "      <td>491.0</td>\n",
       "      <td>246.0</td>\n",
       "      <td>7.0</td>\n",
       "      <td>7</td>\n",
       "      <td>Austin-Round Rock</td>\n",
       "      <td>--</td>\n",
       "      <td>Metro</td>\n",
       "      <td>Large Fringe Metro</td>\n",
       "      <td>Large Fringe Metro</td>\n",
       "      <td>Non-Border</td>\n",
       "      <td>Non-Border</td>\n",
       "      <td>None</td>\n",
       "    </tr>\n",
       "  </tbody>\n",
       "</table>\n",
       "</div>"
      ],
      "text/plain": [
       "  County Name FIPS # County # Public Health Region Health Service Region (8)  \\\n",
       "0     Bastrop   21.0     11.0                  7.0                         7   \n",
       "1    Caldwell   55.0     28.0                  7.0                         7   \n",
       "2        Hays  209.0    105.0                  7.0                         7   \n",
       "3      Travis  453.0    227.0                  7.0                         7   \n",
       "4  Williamson  491.0    246.0                  7.0                         7   \n",
       "\n",
       "  Metropolitan Statistical Area (MSA) Metropolitan Divisions (MD) Metro Area  \\\n",
       "0                   Austin-Round Rock                          --      Metro   \n",
       "1                   Austin-Round Rock                          --      Metro   \n",
       "2                   Austin-Round Rock                          --      Metro   \n",
       "3                   Austin-Round Rock                          --      Metro   \n",
       "4                   Austin-Round Rock                          --      Metro   \n",
       "\n",
       "  NCHS Urban Rural Classification (2006)  \\\n",
       "0                     Large Fringe Metro   \n",
       "1                     Large Fringe Metro   \n",
       "2                     Large Fringe Metro   \n",
       "3                    Large Central Metro   \n",
       "4                     Large Fringe Metro   \n",
       "\n",
       "  NCHS Urban Rural Classification (2013) Border (La Paz Agreement)  \\\n",
       "0                     Large Fringe Metro                Non-Border   \n",
       "1                     Large Fringe Metro                Non-Border   \n",
       "2                     Large Fringe Metro                Non-Border   \n",
       "3                    Large Central Metro                Non-Border   \n",
       "4                     Large Fringe Metro                Non-Border   \n",
       "\n",
       "    Border 15 geometry  \n",
       "0  Non-Border     None  \n",
       "1  Non-Border     None  \n",
       "2  Non-Border     None  \n",
       "3  Non-Border     None  \n",
       "4  Non-Border     None  "
      ]
     },
     "execution_count": 27,
     "metadata": {},
     "output_type": "execute_result"
    }
   ],
   "source": [
    "#import pandas as pd\n",
    "import geopandas as gpd\n",
    "\n",
    "arrcos = gpd.read_file(\"/Users/BUNGUS/Desktop/GIS_DATA/ARR_MSA.csv\")\n",
    "\n",
    "#show all counties in Austin-Round Rock MSA list\n",
    "arrcos"
   ]
  },
  {
   "cell_type": "code",
   "execution_count": 28,
   "id": "c07409c0",
   "metadata": {},
   "outputs": [
    {
     "data": {
      "text/plain": [
       "0       Bastrop\n",
       "1      Caldwell\n",
       "2          Hays\n",
       "3        Travis\n",
       "4    Williamson\n",
       "Name: County Name, dtype: object"
      ]
     },
     "execution_count": 28,
     "metadata": {},
     "output_type": "execute_result"
    }
   ],
   "source": [
    "#only show county #\n",
    "arrcos[\"County Name\"]"
   ]
  },
  {
   "cell_type": "code",
   "execution_count": 35,
   "id": "77aa7c82",
   "metadata": {},
   "outputs": [
    {
     "data": {
      "text/html": [
       "<div>\n",
       "<style scoped>\n",
       "    .dataframe tbody tr th:only-of-type {\n",
       "        vertical-align: middle;\n",
       "    }\n",
       "\n",
       "    .dataframe tbody tr th {\n",
       "        vertical-align: top;\n",
       "    }\n",
       "\n",
       "    .dataframe thead th {\n",
       "        text-align: right;\n",
       "    }\n",
       "</style>\n",
       "<table border=\"1\" class=\"dataframe\">\n",
       "  <thead>\n",
       "    <tr style=\"text-align: right;\">\n",
       "      <th></th>\n",
       "      <th>county name</th>\n",
       "      <th>county number</th>\n",
       "    </tr>\n",
       "  </thead>\n",
       "  <tbody>\n",
       "    <tr>\n",
       "      <th>0</th>\n",
       "      <td>bingus</td>\n",
       "      <td>69</td>\n",
       "    </tr>\n",
       "    <tr>\n",
       "      <th>1</th>\n",
       "      <td>bungus</td>\n",
       "      <td>69</td>\n",
       "    </tr>\n",
       "    <tr>\n",
       "      <th>2</th>\n",
       "      <td>Hays</td>\n",
       "      <td>43</td>\n",
       "    </tr>\n",
       "  </tbody>\n",
       "</table>\n",
       "</div>"
      ],
      "text/plain": [
       "  county name  county number\n",
       "0      bingus             69\n",
       "1      bungus             69\n",
       "2        Hays             43"
      ]
     },
     "execution_count": 35,
     "metadata": {},
     "output_type": "execute_result"
    }
   ],
   "source": [
    "dict = {'county name': ['bingus','bungus','Hays'],\n",
    "        'county number':[69,69,43]}\n",
    "df = gpd.GeoDataFrame(dict)\n",
    "df"
   ]
  },
  {
   "cell_type": "code",
   "execution_count": 33,
   "id": "515ce67d",
   "metadata": {},
   "outputs": [
    {
     "data": {
      "text/plain": [
       "0    False\n",
       "1    False\n",
       "2     True\n",
       "Name: county name, dtype: bool"
      ]
     },
     "execution_count": 33,
     "metadata": {},
     "output_type": "execute_result"
    }
   ],
   "source": [
    "is_hays = df['county name'] == 'Hays'\n",
    "is_hays"
   ]
  },
  {
   "cell_type": "code",
   "execution_count": 56,
   "id": "335750f3",
   "metadata": {},
   "outputs": [
    {
     "ename": "SyntaxError",
     "evalue": "invalid syntax (<unknown>, line 1)",
     "output_type": "error",
     "traceback": [
      "Traceback \u001b[0;36m(most recent call last)\u001b[0m:\n",
      "  File \u001b[1;32m\"/Users/BUNGUS/opt/anaconda3/envs/geo_env_1/lib/python3.10/site-packages/IPython/core/interactiveshell.py\"\u001b[0m, line \u001b[1;32m3457\u001b[0m, in \u001b[1;35mrun_code\u001b[0m\n    exec(code_obj, self.user_global_ns, self.user_ns)\n",
      "  File \u001b[1;32m\"/var/folders/d2/xpkyxcbd04q07qs7sln9rg980000gp/T/ipykernel_78196/2327474772.py\"\u001b[0m, line \u001b[1;32m1\u001b[0m, in \u001b[1;35m<module>\u001b[0m\n    df.query('county number == 69')\n",
      "  File \u001b[1;32m\"/Users/BUNGUS/opt/anaconda3/envs/geo_env_1/lib/python3.10/site-packages/pandas/core/frame.py\"\u001b[0m, line \u001b[1;32m4060\u001b[0m, in \u001b[1;35mquery\u001b[0m\n    res = self.eval(expr, **kwargs)\n",
      "  File \u001b[1;32m\"/Users/BUNGUS/opt/anaconda3/envs/geo_env_1/lib/python3.10/site-packages/pandas/core/frame.py\"\u001b[0m, line \u001b[1;32m4191\u001b[0m, in \u001b[1;35meval\u001b[0m\n    return _eval(expr, inplace=inplace, **kwargs)\n",
      "  File \u001b[1;32m\"/Users/BUNGUS/opt/anaconda3/envs/geo_env_1/lib/python3.10/site-packages/pandas/core/computation/eval.py\"\u001b[0m, line \u001b[1;32m348\u001b[0m, in \u001b[1;35meval\u001b[0m\n    parsed_expr = Expr(expr, engine=engine, parser=parser, env=env)\n",
      "  File \u001b[1;32m\"/Users/BUNGUS/opt/anaconda3/envs/geo_env_1/lib/python3.10/site-packages/pandas/core/computation/expr.py\"\u001b[0m, line \u001b[1;32m806\u001b[0m, in \u001b[1;35m__init__\u001b[0m\n    self.terms = self.parse()\n",
      "  File \u001b[1;32m\"/Users/BUNGUS/opt/anaconda3/envs/geo_env_1/lib/python3.10/site-packages/pandas/core/computation/expr.py\"\u001b[0m, line \u001b[1;32m825\u001b[0m, in \u001b[1;35mparse\u001b[0m\n    return self._visitor.visit(self.expr)\n",
      "  File \u001b[1;32m\"/Users/BUNGUS/opt/anaconda3/envs/geo_env_1/lib/python3.10/site-packages/pandas/core/computation/expr.py\"\u001b[0m, line \u001b[1;32m407\u001b[0m, in \u001b[1;35mvisit\u001b[0m\n    raise e\n",
      "  File \u001b[1;32m\"/Users/BUNGUS/opt/anaconda3/envs/geo_env_1/lib/python3.10/site-packages/pandas/core/computation/expr.py\"\u001b[0m, line \u001b[1;32m403\u001b[0m, in \u001b[1;35mvisit\u001b[0m\n    node = ast.fix_missing_locations(ast.parse(clean))\n",
      "\u001b[0;36m  File \u001b[0;32m\"/Users/BUNGUS/opt/anaconda3/envs/geo_env_1/lib/python3.10/ast.py\"\u001b[0;36m, line \u001b[0;32m50\u001b[0;36m, in \u001b[0;35mparse\u001b[0;36m\u001b[0m\n\u001b[0;31m    return compile(source, filename, mode, flags,\u001b[0m\n",
      "\u001b[0;36m  File \u001b[0;32m\"<unknown>\"\u001b[0;36m, line \u001b[0;32m1\u001b[0m\n\u001b[0;31m    county number ==69\u001b[0m\n\u001b[0m           ^\u001b[0m\n\u001b[0;31mSyntaxError\u001b[0m\u001b[0;31m:\u001b[0m invalid syntax\n"
     ]
    }
   ],
   "source": []
  },
  {
   "cell_type": "code",
   "execution_count": null,
   "id": "6ca29483",
   "metadata": {},
   "outputs": [],
   "source": []
  }
 ],
 "metadata": {
  "kernelspec": {
   "display_name": "geo_env_1",
   "language": "python",
   "name": "geo_env_1"
  },
  "language_info": {
   "codemirror_mode": {
    "name": "ipython",
    "version": 3
   },
   "file_extension": ".py",
   "mimetype": "text/x-python",
   "name": "python",
   "nbconvert_exporter": "python",
   "pygments_lexer": "ipython3",
   "version": "3.10.1"
  }
 },
 "nbformat": 4,
 "nbformat_minor": 5
}
